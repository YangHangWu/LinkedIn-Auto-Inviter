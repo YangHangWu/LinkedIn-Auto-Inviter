{
 "cells": [
  {
   "cell_type": "code",
   "execution_count": 62,
   "source": [
    "from selenium.webdriver.common.keys import Keys\n",
    "from selenium.webdriver.common.action_chains import ActionChains\n",
    "from selenium import webdriver\n",
    "from selenium.webdriver.common.by import By\n",
    "from selenium.webdriver.support.wait import WebDriverWait\n",
    "from selenium.webdriver.support import expected_conditions as EC\n",
    "import warnings\n",
    "import time\n",
    "warnings.filterwarnings('ignore')\n"
   ],
   "outputs": [],
   "metadata": {}
  },
  {
   "cell_type": "code",
   "execution_count": 76,
   "source": [
    "class Auto_Inviter():\n",
    "    def __init__(self,user_profile_path, chromedriver_path):\n",
    "        options = webdriver.ChromeOptions()\n",
    "        options.add_argument('--user-data-dir=' + user_profile_path) \n",
    "        options.add_argument(\"start-maximized\")\n",
    "        options.add_argument(\"disable-infobars\")\n",
    "        options.add_argument(\"--disable-extensions\")\n",
    "        self.driver = webdriver.Chrome('./chromedriver98',chrome_options=options)\n",
    "        self.driver.maximize_window()\n",
    "    def open_website(self, url, company_name):\n",
    "        self.driver.get(url)\n",
    "        self.company = company_name\n",
    "    def get_user_names(self):\n",
    "        WebDriverWait(self.driver, 5, 0.5).until(EC.visibility_of_element_located((By.XPATH, \"//*[@class='visually-hidden']\")))\n",
    "        titles = self.driver.find_elements_by_class_name('visually-hidden')\n",
    "        names = []\n",
    "        for title in titles:\n",
    "            if 'View' in title.text:\n",
    "                name = title.text.replace('\\n','').replace(('View '),'').replace(('’s profile'),'')\n",
    "                names.append(name)\n",
    "        return names\n",
    "    def open_connector_pagination(self, target):\n",
    "        ActionChains(self.driver).key_down(Keys.COMMAND).perform()\n",
    "        target.click()\n",
    "        ActionChains(self.driver).key_up(Keys.COMMAND).perform()\n",
    "        self.driver.switch_to.window(self.driver.window_handles[1])\n",
    "\n",
    "    def close_connector_pagination(self):\n",
    "        self.driver.close()\n",
    "        self.driver.switch_to.window(self.driver.window_handles[0])\n",
    "\n",
    "    def next_page(self):\n",
    "        WebDriverWait(self.driver, 10, 0.5).until(EC.visibility_of_element_located((By.XPATH, \"//span[@class='artdeco-button__text' and text()='Next']\"))).click()\n",
    "\n",
    "    def send_msg(self, name, msg):\n",
    "        msg = 'Hi '+name.split(' ')[0]+',\\n' + msg\n",
    "        if len(msg) > 300:\n",
    "            print('The message is too long and there will be some missing words!!!')\n",
    "            print('fail')\n",
    "            return 1\n",
    "        self.driver.switch_to.window(self.driver.window_handles[1])\n",
    "        try:\n",
    "            self.driver.find_elements_by_xpath('//button[@aria-label=\"More actions\"]')[1].click()\n",
    "            self.driver.find_elements_by_xpath(\"//span[@class='display-flex t-normal flex-1' and text()='Connect']\")[1].click()\n",
    "            self.driver.find_elements_by_xpath(\"//span[@class='artdeco-button__text' and text()='Connect']\")[0].click()\n",
    "        except:\n",
    "            self.driver.find_elements_by_xpath(\"//span[@class='artdeco-button__text' and text()='Connect']\")[1].click()\n",
    "        self.driver.find_element_by_xpath('//button[normalize-space()=\"Add a note\"]').click()\n",
    "        self.driver.find_element_by_id('custom-message').send_keys(msg)\n",
    "        #self.driver.find_element_by_xpath(\"//span[@class='artdeco-button__text' and text()='Send']\").click()\n",
    "        print('sucess')\n",
    "        #time.sleep(3)\n",
    "\n",
    "    def ask_for_referral(self, msg, num):\n",
    "        i = 0\n",
    "        while True:\n",
    "            try:\n",
    "                WebDriverWait(self.driver, 5, 0.5).until(EC.visibility_of_element_located((By.XPATH, \"//*[@class='app-aware-link']\")))\n",
    "            except:\n",
    "                self.driver.find_element_by_xpath(\"//span[@class='artdeco-button__text' and text()='Retry search']\").click()\n",
    "                print('renew')\n",
    "                continue\n",
    "            links = self.driver.find_elements_by_class_name('app-aware-link')\n",
    "            names = self.get_user_names()\n",
    "            for link in links:\n",
    "                name = link.text.split('\\n')[0]\n",
    "                if name in names:\n",
    "                    names.remove(name)\n",
    "                    i+=1\n",
    "                    print(i,\": \",name)\n",
    "                    self.open_connector_pagination(link)\n",
    "                    self.send_msg(name,msg)\n",
    "                    self.close_connector_pagination()\n",
    "                if i == num:\n",
    "                    break\n",
    "                    #return\n",
    "            self.driver.execute_script(\"window.scrollTo(0, document.body.scrollHeight);\")\n",
    "            self.next_page()"
   ],
   "outputs": [],
   "metadata": {}
  },
  {
   "cell_type": "code",
   "execution_count": 78,
   "source": [
    "company_url = 'https://www.linkedin.com/search/results/people/?keywords=amazon&origin=GLOBAL_SEARCH_HEADER&sid=wUZ'\n",
    "company_name = 'google'\n",
    "num = 30\n",
    "msg ='My name is Alex, a UCSD MSCS student. I found your profile on Linkedln. Moreover, currently I\\'m looking for internship in the USA and I know that you work at '+company_name+' and I\\'m impressed by you experience. I\\'m just wondering can I get more connection or referral from you.'\n",
    "\n",
    "user_profile_path = '/Users/yanghangwu/Library/Application Support/Google/Chrome/Profile 3'\n",
    "chromedriver_path = './chromedriver98'\n",
    "Inviter = Auto_Inviter(user_profile_path, chromedriver_path)\n",
    "Inviter.open_website(company_url, company_name)\n",
    "Inviter.ask_for_referral(msg, num)"
   ],
   "outputs": [
    {
     "output_type": "stream",
     "name": "stdout",
     "text": [
      "1 :  Zabie Wahab\n",
      "sucess\n",
      "2 :  Weiduo Sun\n",
      "sucess\n",
      "3 :  Jiawen Qi\n",
      "sucess\n",
      "4 :  Ming Cai\n",
      "sucess\n",
      "5 :  Fan Wu\n",
      "sucess\n",
      "6 :  Shih-Chen (Dennis) Lin\n",
      "sucess\n",
      "7 :  Rou Zhang\n"
     ]
    },
    {
     "output_type": "error",
     "ename": "NoSuchWindowException",
     "evalue": "Message: no such window: target window already closed\nfrom unknown error: web view not found\n  (Session info: chrome=98.0.4758.109)\nStacktrace:\n0   chromedriver98                      0x0000000102b80b50 chromedriver98 + 4442960\n1   chromedriver98                      0x0000000102b15d14 chromedriver98 + 4005140\n2   chromedriver98                      0x000000010276a30c chromedriver98 + 156428\n3   chromedriver98                      0x000000010274e468 chromedriver98 + 42088\n4   chromedriver98                      0x00000001027b48e4 chromedriver98 + 461028\n5   chromedriver98                      0x00000001027c2294 chromedriver98 + 516756\n6   chromedriver98                      0x000000010278e660 chromedriver98 + 304736\n7   chromedriver98                      0x0000000102b43308 chromedriver98 + 4190984\n8   chromedriver98                      0x0000000102b59584 chromedriver98 + 4281732\n9   chromedriver98                      0x0000000102b5e3d0 chromedriver98 + 4301776\n10  chromedriver98                      0x0000000102b59f04 chromedriver98 + 4284164\n11  chromedriver98                      0x0000000102b39164 chromedriver98 + 4149604\n12  chromedriver98                      0x0000000102b72e74 chromedriver98 + 4386420\n13  chromedriver98                      0x0000000102b72fe8 chromedriver98 + 4386792\n14  chromedriver98                      0x0000000102b873f4 chromedriver98 + 4469748\n15  libsystem_pthread.dylib             0x00000001a0666fd4 _pthread_start + 320\n16  libsystem_pthread.dylib             0x00000001a0661d3c thread_start + 8\n",
     "traceback": [
      "\u001b[0;31m---------------------------------------------------------------------------\u001b[0m",
      "\u001b[0;31mIndexError\u001b[0m                                Traceback (most recent call last)",
      "\u001b[0;32m/var/folders/jj/zp1z61s551z8krgq9131qqbc0000gn/T/ipykernel_3334/992286888.py\u001b[0m in \u001b[0;36msend_msg\u001b[0;34m(self, name, msg)\u001b[0m\n\u001b[1;32m     40\u001b[0m         \u001b[0;32mtry\u001b[0m\u001b[0;34m:\u001b[0m\u001b[0;34m\u001b[0m\u001b[0;34m\u001b[0m\u001b[0m\n\u001b[0;32m---> 41\u001b[0;31m             \u001b[0mself\u001b[0m\u001b[0;34m.\u001b[0m\u001b[0mdriver\u001b[0m\u001b[0;34m.\u001b[0m\u001b[0mfind_elements_by_xpath\u001b[0m\u001b[0;34m(\u001b[0m\u001b[0;34m'//button[@aria-label=\"More actions\"]'\u001b[0m\u001b[0;34m)\u001b[0m\u001b[0;34m[\u001b[0m\u001b[0;36m1\u001b[0m\u001b[0;34m]\u001b[0m\u001b[0;34m.\u001b[0m\u001b[0mclick\u001b[0m\u001b[0;34m(\u001b[0m\u001b[0;34m)\u001b[0m\u001b[0;34m\u001b[0m\u001b[0;34m\u001b[0m\u001b[0m\n\u001b[0m\u001b[1;32m     42\u001b[0m             \u001b[0mself\u001b[0m\u001b[0;34m.\u001b[0m\u001b[0mdriver\u001b[0m\u001b[0;34m.\u001b[0m\u001b[0mfind_elements_by_xpath\u001b[0m\u001b[0;34m(\u001b[0m\u001b[0;34m\"//span[@class='display-flex t-normal flex-1' and text()='Connect']\"\u001b[0m\u001b[0;34m)\u001b[0m\u001b[0;34m[\u001b[0m\u001b[0;36m1\u001b[0m\u001b[0;34m]\u001b[0m\u001b[0;34m.\u001b[0m\u001b[0mclick\u001b[0m\u001b[0;34m(\u001b[0m\u001b[0;34m)\u001b[0m\u001b[0;34m\u001b[0m\u001b[0;34m\u001b[0m\u001b[0m\n",
      "\u001b[0;31mIndexError\u001b[0m: list index out of range",
      "\nDuring handling of the above exception, another exception occurred:\n",
      "\u001b[0;31mNoSuchWindowException\u001b[0m                     Traceback (most recent call last)",
      "\u001b[0;32m/var/folders/jj/zp1z61s551z8krgq9131qqbc0000gn/T/ipykernel_3334/867977549.py\u001b[0m in \u001b[0;36m<module>\u001b[0;34m\u001b[0m\n\u001b[1;32m      7\u001b[0m \u001b[0mInviter\u001b[0m \u001b[0;34m=\u001b[0m \u001b[0mAuto_Inviter\u001b[0m\u001b[0;34m(\u001b[0m\u001b[0muser_profile_path\u001b[0m\u001b[0;34m,\u001b[0m \u001b[0mchromedriver_path\u001b[0m\u001b[0;34m)\u001b[0m\u001b[0;34m\u001b[0m\u001b[0;34m\u001b[0m\u001b[0m\n\u001b[1;32m      8\u001b[0m \u001b[0mInviter\u001b[0m\u001b[0;34m.\u001b[0m\u001b[0mopen_website\u001b[0m\u001b[0;34m(\u001b[0m\u001b[0mcompany_url\u001b[0m\u001b[0;34m,\u001b[0m \u001b[0mcompany_name\u001b[0m\u001b[0;34m)\u001b[0m\u001b[0;34m\u001b[0m\u001b[0;34m\u001b[0m\u001b[0m\n\u001b[0;32m----> 9\u001b[0;31m \u001b[0mInviter\u001b[0m\u001b[0;34m.\u001b[0m\u001b[0mask_for_referral\u001b[0m\u001b[0;34m(\u001b[0m\u001b[0mmsg\u001b[0m\u001b[0;34m,\u001b[0m \u001b[0;36m1\u001b[0m\u001b[0;34m)\u001b[0m\u001b[0;34m\u001b[0m\u001b[0;34m\u001b[0m\u001b[0m\n\u001b[0m",
      "\u001b[0;32m/var/folders/jj/zp1z61s551z8krgq9131qqbc0000gn/T/ipykernel_3334/992286888.py\u001b[0m in \u001b[0;36mask_for_referral\u001b[0;34m(self, msg, num)\u001b[0m\n\u001b[1;32m     69\u001b[0m                     \u001b[0mprint\u001b[0m\u001b[0;34m(\u001b[0m\u001b[0mi\u001b[0m\u001b[0;34m,\u001b[0m\u001b[0;34m\": \"\u001b[0m\u001b[0;34m,\u001b[0m\u001b[0mname\u001b[0m\u001b[0;34m)\u001b[0m\u001b[0;34m\u001b[0m\u001b[0;34m\u001b[0m\u001b[0m\n\u001b[1;32m     70\u001b[0m                     \u001b[0mself\u001b[0m\u001b[0;34m.\u001b[0m\u001b[0mopen_connector_pagination\u001b[0m\u001b[0;34m(\u001b[0m\u001b[0mlink\u001b[0m\u001b[0;34m)\u001b[0m\u001b[0;34m\u001b[0m\u001b[0;34m\u001b[0m\u001b[0m\n\u001b[0;32m---> 71\u001b[0;31m                     \u001b[0mself\u001b[0m\u001b[0;34m.\u001b[0m\u001b[0msend_msg\u001b[0m\u001b[0;34m(\u001b[0m\u001b[0mname\u001b[0m\u001b[0;34m,\u001b[0m\u001b[0mmsg\u001b[0m\u001b[0;34m)\u001b[0m\u001b[0;34m\u001b[0m\u001b[0;34m\u001b[0m\u001b[0m\n\u001b[0m\u001b[1;32m     72\u001b[0m                     \u001b[0mself\u001b[0m\u001b[0;34m.\u001b[0m\u001b[0mclose_connector_pagination\u001b[0m\u001b[0;34m(\u001b[0m\u001b[0;34m)\u001b[0m\u001b[0;34m\u001b[0m\u001b[0;34m\u001b[0m\u001b[0m\n\u001b[1;32m     73\u001b[0m                 \u001b[0;32mif\u001b[0m \u001b[0mi\u001b[0m \u001b[0;34m==\u001b[0m \u001b[0mnum\u001b[0m\u001b[0;34m:\u001b[0m\u001b[0;34m\u001b[0m\u001b[0;34m\u001b[0m\u001b[0m\n",
      "\u001b[0;32m/var/folders/jj/zp1z61s551z8krgq9131qqbc0000gn/T/ipykernel_3334/992286888.py\u001b[0m in \u001b[0;36msend_msg\u001b[0;34m(self, name, msg)\u001b[0m\n\u001b[1;32m     43\u001b[0m             \u001b[0mself\u001b[0m\u001b[0;34m.\u001b[0m\u001b[0mdriver\u001b[0m\u001b[0;34m.\u001b[0m\u001b[0mfind_elements_by_xpath\u001b[0m\u001b[0;34m(\u001b[0m\u001b[0;34m\"//span[@class='artdeco-button__text' and text()='Connect']\"\u001b[0m\u001b[0;34m)\u001b[0m\u001b[0;34m[\u001b[0m\u001b[0;36m0\u001b[0m\u001b[0;34m]\u001b[0m\u001b[0;34m.\u001b[0m\u001b[0mclick\u001b[0m\u001b[0;34m(\u001b[0m\u001b[0;34m)\u001b[0m\u001b[0;34m\u001b[0m\u001b[0;34m\u001b[0m\u001b[0m\n\u001b[1;32m     44\u001b[0m         \u001b[0;32mexcept\u001b[0m\u001b[0;34m:\u001b[0m\u001b[0;34m\u001b[0m\u001b[0;34m\u001b[0m\u001b[0m\n\u001b[0;32m---> 45\u001b[0;31m             \u001b[0mself\u001b[0m\u001b[0;34m.\u001b[0m\u001b[0mdriver\u001b[0m\u001b[0;34m.\u001b[0m\u001b[0mfind_elements_by_xpath\u001b[0m\u001b[0;34m(\u001b[0m\u001b[0;34m\"//span[@class='artdeco-button__text' and text()='Connect']\"\u001b[0m\u001b[0;34m)\u001b[0m\u001b[0;34m[\u001b[0m\u001b[0;36m1\u001b[0m\u001b[0;34m]\u001b[0m\u001b[0;34m.\u001b[0m\u001b[0mclick\u001b[0m\u001b[0;34m(\u001b[0m\u001b[0;34m)\u001b[0m\u001b[0;34m\u001b[0m\u001b[0;34m\u001b[0m\u001b[0m\n\u001b[0m\u001b[1;32m     46\u001b[0m         \u001b[0mself\u001b[0m\u001b[0;34m.\u001b[0m\u001b[0mdriver\u001b[0m\u001b[0;34m.\u001b[0m\u001b[0mfind_element_by_xpath\u001b[0m\u001b[0;34m(\u001b[0m\u001b[0;34m'//button[normalize-space()=\"Add a note\"]'\u001b[0m\u001b[0;34m)\u001b[0m\u001b[0;34m.\u001b[0m\u001b[0mclick\u001b[0m\u001b[0;34m(\u001b[0m\u001b[0;34m)\u001b[0m\u001b[0;34m\u001b[0m\u001b[0;34m\u001b[0m\u001b[0m\n\u001b[1;32m     47\u001b[0m         \u001b[0mself\u001b[0m\u001b[0;34m.\u001b[0m\u001b[0mdriver\u001b[0m\u001b[0;34m.\u001b[0m\u001b[0mfind_element_by_id\u001b[0m\u001b[0;34m(\u001b[0m\u001b[0;34m'custom-message'\u001b[0m\u001b[0;34m)\u001b[0m\u001b[0;34m.\u001b[0m\u001b[0msend_keys\u001b[0m\u001b[0;34m(\u001b[0m\u001b[0mmsg\u001b[0m\u001b[0;34m)\u001b[0m\u001b[0;34m\u001b[0m\u001b[0;34m\u001b[0m\u001b[0m\n",
      "\u001b[0;32m/Library/Frameworks/Python.framework/Versions/3.7/lib/python3.7/site-packages/selenium/webdriver/remote/webdriver.py\u001b[0m in \u001b[0;36mfind_elements_by_xpath\u001b[0;34m(self, xpath)\u001b[0m\n\u001b[1;32m    541\u001b[0m             \u001b[0mstacklevel\u001b[0m\u001b[0;34m=\u001b[0m\u001b[0;36m2\u001b[0m\u001b[0;34m,\u001b[0m\u001b[0;34m\u001b[0m\u001b[0;34m\u001b[0m\u001b[0m\n\u001b[1;32m    542\u001b[0m         )\n\u001b[0;32m--> 543\u001b[0;31m         \u001b[0;32mreturn\u001b[0m \u001b[0mself\u001b[0m\u001b[0;34m.\u001b[0m\u001b[0mfind_elements\u001b[0m\u001b[0;34m(\u001b[0m\u001b[0mby\u001b[0m\u001b[0;34m=\u001b[0m\u001b[0mBy\u001b[0m\u001b[0;34m.\u001b[0m\u001b[0mXPATH\u001b[0m\u001b[0;34m,\u001b[0m \u001b[0mvalue\u001b[0m\u001b[0;34m=\u001b[0m\u001b[0mxpath\u001b[0m\u001b[0;34m)\u001b[0m\u001b[0;34m\u001b[0m\u001b[0;34m\u001b[0m\u001b[0m\n\u001b[0m\u001b[1;32m    544\u001b[0m \u001b[0;34m\u001b[0m\u001b[0m\n\u001b[1;32m    545\u001b[0m     \u001b[0;32mdef\u001b[0m \u001b[0mfind_element_by_link_text\u001b[0m\u001b[0;34m(\u001b[0m\u001b[0mself\u001b[0m\u001b[0;34m,\u001b[0m \u001b[0mlink_text\u001b[0m\u001b[0;34m)\u001b[0m \u001b[0;34m->\u001b[0m \u001b[0mWebElement\u001b[0m\u001b[0;34m:\u001b[0m\u001b[0;34m\u001b[0m\u001b[0;34m\u001b[0m\u001b[0m\n",
      "\u001b[0;32m/Library/Frameworks/Python.framework/Versions/3.7/lib/python3.7/site-packages/selenium/webdriver/remote/webdriver.py\u001b[0m in \u001b[0;36mfind_elements\u001b[0;34m(self, by, value)\u001b[0m\n\u001b[1;32m   1279\u001b[0m         return self.execute(Command.FIND_ELEMENTS, {\n\u001b[1;32m   1280\u001b[0m             \u001b[0;34m'using'\u001b[0m\u001b[0;34m:\u001b[0m \u001b[0mby\u001b[0m\u001b[0;34m,\u001b[0m\u001b[0;34m\u001b[0m\u001b[0;34m\u001b[0m\u001b[0m\n\u001b[0;32m-> 1281\u001b[0;31m             'value': value})['value'] or []\n\u001b[0m\u001b[1;32m   1282\u001b[0m \u001b[0;34m\u001b[0m\u001b[0m\n\u001b[1;32m   1283\u001b[0m     \u001b[0;34m@\u001b[0m\u001b[0mproperty\u001b[0m\u001b[0;34m\u001b[0m\u001b[0;34m\u001b[0m\u001b[0m\n",
      "\u001b[0;32m/Library/Frameworks/Python.framework/Versions/3.7/lib/python3.7/site-packages/selenium/webdriver/remote/webdriver.py\u001b[0m in \u001b[0;36mexecute\u001b[0;34m(self, driver_command, params)\u001b[0m\n\u001b[1;32m    422\u001b[0m         \u001b[0mresponse\u001b[0m \u001b[0;34m=\u001b[0m \u001b[0mself\u001b[0m\u001b[0;34m.\u001b[0m\u001b[0mcommand_executor\u001b[0m\u001b[0;34m.\u001b[0m\u001b[0mexecute\u001b[0m\u001b[0;34m(\u001b[0m\u001b[0mdriver_command\u001b[0m\u001b[0;34m,\u001b[0m \u001b[0mparams\u001b[0m\u001b[0;34m)\u001b[0m\u001b[0;34m\u001b[0m\u001b[0;34m\u001b[0m\u001b[0m\n\u001b[1;32m    423\u001b[0m         \u001b[0;32mif\u001b[0m \u001b[0mresponse\u001b[0m\u001b[0;34m:\u001b[0m\u001b[0;34m\u001b[0m\u001b[0;34m\u001b[0m\u001b[0m\n\u001b[0;32m--> 424\u001b[0;31m             \u001b[0mself\u001b[0m\u001b[0;34m.\u001b[0m\u001b[0merror_handler\u001b[0m\u001b[0;34m.\u001b[0m\u001b[0mcheck_response\u001b[0m\u001b[0;34m(\u001b[0m\u001b[0mresponse\u001b[0m\u001b[0;34m)\u001b[0m\u001b[0;34m\u001b[0m\u001b[0;34m\u001b[0m\u001b[0m\n\u001b[0m\u001b[1;32m    425\u001b[0m             response['value'] = self._unwrap_value(\n\u001b[1;32m    426\u001b[0m                 response.get('value', None))\n",
      "\u001b[0;32m/Library/Frameworks/Python.framework/Versions/3.7/lib/python3.7/site-packages/selenium/webdriver/remote/errorhandler.py\u001b[0m in \u001b[0;36mcheck_response\u001b[0;34m(self, response)\u001b[0m\n\u001b[1;32m    245\u001b[0m                 \u001b[0malert_text\u001b[0m \u001b[0;34m=\u001b[0m \u001b[0mvalue\u001b[0m\u001b[0;34m[\u001b[0m\u001b[0;34m'alert'\u001b[0m\u001b[0;34m]\u001b[0m\u001b[0;34m.\u001b[0m\u001b[0mget\u001b[0m\u001b[0;34m(\u001b[0m\u001b[0;34m'text'\u001b[0m\u001b[0;34m)\u001b[0m\u001b[0;34m\u001b[0m\u001b[0;34m\u001b[0m\u001b[0m\n\u001b[1;32m    246\u001b[0m             \u001b[0;32mraise\u001b[0m \u001b[0mexception_class\u001b[0m\u001b[0;34m(\u001b[0m\u001b[0mmessage\u001b[0m\u001b[0;34m,\u001b[0m \u001b[0mscreen\u001b[0m\u001b[0;34m,\u001b[0m \u001b[0mstacktrace\u001b[0m\u001b[0;34m,\u001b[0m \u001b[0malert_text\u001b[0m\u001b[0;34m)\u001b[0m  \u001b[0;31m# type: ignore[call-arg]  # mypy is not smart enough here\u001b[0m\u001b[0;34m\u001b[0m\u001b[0;34m\u001b[0m\u001b[0m\n\u001b[0;32m--> 247\u001b[0;31m         \u001b[0;32mraise\u001b[0m \u001b[0mexception_class\u001b[0m\u001b[0;34m(\u001b[0m\u001b[0mmessage\u001b[0m\u001b[0;34m,\u001b[0m \u001b[0mscreen\u001b[0m\u001b[0;34m,\u001b[0m \u001b[0mstacktrace\u001b[0m\u001b[0;34m)\u001b[0m\u001b[0;34m\u001b[0m\u001b[0;34m\u001b[0m\u001b[0m\n\u001b[0m\u001b[1;32m    248\u001b[0m \u001b[0;34m\u001b[0m\u001b[0m\n\u001b[1;32m    249\u001b[0m     \u001b[0;32mdef\u001b[0m \u001b[0m_value_or_default\u001b[0m\u001b[0;34m(\u001b[0m\u001b[0mself\u001b[0m\u001b[0;34m,\u001b[0m \u001b[0mobj\u001b[0m\u001b[0;34m:\u001b[0m \u001b[0mMapping\u001b[0m\u001b[0;34m[\u001b[0m\u001b[0m_KT\u001b[0m\u001b[0;34m,\u001b[0m \u001b[0m_VT\u001b[0m\u001b[0;34m]\u001b[0m\u001b[0;34m,\u001b[0m \u001b[0mkey\u001b[0m\u001b[0;34m:\u001b[0m \u001b[0m_KT\u001b[0m\u001b[0;34m,\u001b[0m \u001b[0mdefault\u001b[0m\u001b[0;34m:\u001b[0m \u001b[0m_VT\u001b[0m\u001b[0;34m)\u001b[0m \u001b[0;34m->\u001b[0m \u001b[0m_VT\u001b[0m\u001b[0;34m:\u001b[0m\u001b[0;34m\u001b[0m\u001b[0;34m\u001b[0m\u001b[0m\n",
      "\u001b[0;31mNoSuchWindowException\u001b[0m: Message: no such window: target window already closed\nfrom unknown error: web view not found\n  (Session info: chrome=98.0.4758.109)\nStacktrace:\n0   chromedriver98                      0x0000000102b80b50 chromedriver98 + 4442960\n1   chromedriver98                      0x0000000102b15d14 chromedriver98 + 4005140\n2   chromedriver98                      0x000000010276a30c chromedriver98 + 156428\n3   chromedriver98                      0x000000010274e468 chromedriver98 + 42088\n4   chromedriver98                      0x00000001027b48e4 chromedriver98 + 461028\n5   chromedriver98                      0x00000001027c2294 chromedriver98 + 516756\n6   chromedriver98                      0x000000010278e660 chromedriver98 + 304736\n7   chromedriver98                      0x0000000102b43308 chromedriver98 + 4190984\n8   chromedriver98                      0x0000000102b59584 chromedriver98 + 4281732\n9   chromedriver98                      0x0000000102b5e3d0 chromedriver98 + 4301776\n10  chromedriver98                      0x0000000102b59f04 chromedriver98 + 4284164\n11  chromedriver98                      0x0000000102b39164 chromedriver98 + 4149604\n12  chromedriver98                      0x0000000102b72e74 chromedriver98 + 4386420\n13  chromedriver98                      0x0000000102b72fe8 chromedriver98 + 4386792\n14  chromedriver98                      0x0000000102b873f4 chromedriver98 + 4469748\n15  libsystem_pthread.dylib             0x00000001a0666fd4 _pthread_start + 320\n16  libsystem_pthread.dylib             0x00000001a0661d3c thread_start + 8\n"
     ]
    }
   ],
   "metadata": {}
  },
  {
   "cell_type": "code",
   "execution_count": null,
   "source": [],
   "outputs": [],
   "metadata": {}
  }
 ],
 "metadata": {
  "orig_nbformat": 4,
  "language_info": {
   "name": "python",
   "version": "3.7.4",
   "mimetype": "text/x-python",
   "codemirror_mode": {
    "name": "ipython",
    "version": 3
   },
   "pygments_lexer": "ipython3",
   "nbconvert_exporter": "python",
   "file_extension": ".py"
  },
  "kernelspec": {
   "name": "python3",
   "display_name": "Python 3.7.4 64-bit"
  },
  "interpreter": {
   "hash": "aee8b7b246df8f9039afb4144a1f6fd8d2ca17a180786b69acc140d282b71a49"
  }
 },
 "nbformat": 4,
 "nbformat_minor": 2
}